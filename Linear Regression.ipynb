{
 "cells": [
  {
   "cell_type": "markdown",
   "metadata": {},
   "source": [
    "# Linear Regression"
   ]
  },
  {
   "cell_type": "markdown",
   "metadata": {},
   "source": [
    "Linear Regression falls under the category of supervised learning, meaning that in order to create our model we need to use a training set. Linear regression is an inflexible model. Linear regression can only those model those data sets that follow a linear pattern. Inflexiblity improves the ability to infere, or understand those predictors that contribute more or less to the model. "
   ]
  },
  {
   "cell_type": "markdown",
   "metadata": {},
   "source": [
    "## Simple Linear Regression"
   ]
  },
  {
   "cell_type": "markdown",
   "metadata": {},
   "source": [
    "First we assume that there exists a linear relationship between X and Y. We will describe this relationship as being approximate, and hence we use \"$\\approx$\"."
   ]
  },
  {
   "cell_type": "markdown",
   "metadata": {},
   "source": [
    "$$ Y \\approx \\beta_{0} + \\beta_{1}X $$"
   ]
  },
  {
   "cell_type": "markdown",
   "metadata": {},
   "source": [
    "Just as in any linear relationship, in this model $\\beta_{0}$ represents the Y intercept and $\\beta_{1}$ is the slope of the line. We do not know know what the coefficients ($\\beta_{0}$ and $\\beta_{1}$) are, so we have to estimate them using the training set. We will refer to the estimated coefficients as $\\hat{\\beta}_{0}$ and $\\hat{\\beta}_{1}$ and the predicted response $\\hat{y}$."
   ]
  },
  {
   "cell_type": "markdown",
   "metadata": {},
   "source": [
    "$$\\hat{y} \\approx \\hat{\\beta}_{0} + \\hat{\\beta}_{1}X$$"
   ]
  },
  {
   "cell_type": "markdown",
   "metadata": {},
   "source": [
    "### Estimating $\\hat{\\beta}_{0}$ and $\\hat{\\beta}_{1}$"
   ]
  },
  {
   "cell_type": "markdown",
   "metadata": {},
   "source": [
    "The training set is used to determine the coefficients. The n observation points of the training set will be represented by:"
   ]
  },
  {
   "cell_type": "markdown",
   "metadata": {},
   "source": [
    "$$(x_{1},y_{1}), (x_{2},y_{2}), ..., (x_{n},y_{n})$$"
   ]
  },
  {
   "cell_type": "markdown",
   "metadata": {},
   "source": [
    "The objective is to find the closet match of the estimated coefficients to the coefficients that represent the actual linear function. The most widely used approach is that of the least squares, though there are a number of others. Using the equation $\\hat{y}_{i} = \\hat{\\beta}_{0} + \\hat{\\beta}_{1}x_{i}$ to predict Y, we are left with the error e, which is the difference between the observed response value $y_{i}$ and the prediction value $\\hat{y}_{i}$. This difference is called the residual. To use the least squares method, we need to add up all of the residuals in the training set. This is called the Residual Sum of Squares (RSS)."
   ]
  },
  {
   "cell_type": "markdown",
   "metadata": {},
   "source": [
    "$$RSS=\\hat{e}_{1}^2+\\hat{e}_{2}^2+...+\\hat{e}_{n}^2$$"
   ]
  },
  {
   "cell_type": "markdown",
   "metadata": {},
   "source": [
    "also written as:"
   ]
  },
  {
   "cell_type": "markdown",
   "metadata": {},
   "source": [
    "$$RSS=(y_{1}-\\hat{\\beta}_{0}-\\hat{\\beta}_{1}x_{1})^2 + (y_{2}-\\hat{\\beta}_{0}-\\hat{\\beta}_{1}x_{2})^2+...+(y_{n}-\\hat{\\beta}_{0}-\\hat{\\beta}_{1}x_{n})^2$$"
   ]
  },
  {
   "cell_type": "markdown",
   "metadata": {},
   "source": [
    "Using the RSS equation we can solve for $\\hat{\\beta}_{0}$ and $\\hat{\\beta}_{1}$. Khan academy has a few videos that goes over the proofs for arriving at the formulas. These videos can be found starting here: https://www.khanacademy.org/math/statistics-probability/describing-relationships-quantitative-data/more-on-regression/v/squared-error-of-regression-line"
   ]
  },
  {
   "cell_type": "markdown",
   "metadata": {},
   "source": [
    "$$\\hat{\\beta}_{1}=\\sum_{i=1}^n \\frac{(x_{i}-\\bar{x})(y_{i}-\\bar{y})}{\\sum_{i=1}^n(x_{i}-\\bar{x})^2}$$"
   ]
  },
  {
   "cell_type": "markdown",
   "metadata": {},
   "source": [
    "$$\\hat{\\beta}_{0}=\\bar{y}-\\hat{\\beta}_{1}\\bar{x}$$"
   ]
  },
  {
   "cell_type": "markdown",
   "metadata": {},
   "source": [
    "Where $\\bar{y}$ and $\\bar{x}$ are the sample means. The two equations above are significant in that they represent the minimized values of the RSS."
   ]
  },
  {
   "cell_type": "markdown",
   "metadata": {},
   "source": [
    "### Linear Regression Example"
   ]
  },
  {
   "cell_type": "markdown",
   "metadata": {},
   "source": [
    "Lets use y=.5x+4 as our linear equation which of course is supposed to be the unknown function we are trying to figure out. We first will create a plot of what the function looks like."
   ]
  },
  {
   "cell_type": "code",
   "execution_count": 4,
   "metadata": {},
   "outputs": [
    {
     "data": {
      "image/png": "[encoded data removed]",
      "text/plain": [
       "<matplotlib.figure.Figure at 0xaeba75ac>"
      ]
     },
     "metadata": {},
     "output_type": "display_data"
    }
   ],
   "source": [
    "%matplotlib inline\n",
    "import matplotlib.pyplot as plt\n",
    "import numpy as np\n",
    "\n",
    "x = np.arange(100)\n",
    "y = .5 * x + 4\n",
    "plt.plot(x,y)\n",
    "plt.show()"
   ]
  },
  {
   "cell_type": "markdown",
   "metadata": {},
   "source": [
    "We now use this function to create our training set. We do this by adding noise (called delta in the code) to the function. The X values remain the same but the responses will be different."
   ]
  },
  {
   "cell_type": "code",
   "execution_count": 5,
   "metadata": {},
   "outputs": [
    {
     "data": {
      "image/png": "[encoded data removed]",
      "text/plain": [
       "<matplotlib.figure.Figure at 0xb428f5ac>"
      ]
     },
     "metadata": {},
     "output_type": "display_data"
    }
   ],
   "source": [
    "%matplotlib inline\n",
    "import matplotlib.pyplot as plt\n",
    "import numpy as np\n",
    "\n",
    "x = np.arange(100)\n",
    "delta = np.random.uniform(-10,10, size=(100,))\n",
    "y_hat = .5 * x + 4 + delta\n",
    "plt.scatter(x,y_hat)\n",
    "plt.show()"
   ]
  },
  {
   "cell_type": "markdown",
   "metadata": {},
   "source": [
    "As can be seen, the response is definitely linear but the two plots do not have the same responses. We will use the x array and the y_hat array as our training set. We first need to find the mean."
   ]
  },
  {
   "cell_type": "code",
   "execution_count": 6,
   "metadata": {
    "collapsed": true
   },
   "outputs": [],
   "source": [
    "x_mean = x.mean()\n",
    "y_mean = y_hat.mean()"
   ]
  },
  {
   "cell_type": "markdown",
   "metadata": {},
   "source": [
    "Now we calculate $\\hat{\\beta}_{0}$ and $\\hat{\\beta}_{1}$ using the equations above."
   ]
  },
  {
   "cell_type": "code",
   "execution_count": 7,
   "metadata": {
    "collapsed": true
   },
   "outputs": [],
   "source": [
    "beta1_hat = np.sum((x-x_mean)*(y_hat-y_mean))/np.sum(np.power((x-x_mean),2))\n",
    "beta0_hat = y_mean - beta1_hat*x_mean"
   ]
  },
  {
   "cell_type": "code",
   "execution_count": 8,
   "metadata": {},
   "outputs": [
    {
     "data": {
      "text/plain": [
       "4.0320882952776316"
      ]
     },
     "execution_count": 8,
     "metadata": {},
     "output_type": "execute_result"
    }
   ],
   "source": [
    "beta0_hat"
   ]
  },
  {
   "cell_type": "code",
   "execution_count": 9,
   "metadata": {},
   "outputs": [
    {
     "data": {
      "text/plain": [
       "0.48510614019606407"
      ]
     },
     "execution_count": 9,
     "metadata": {},
     "output_type": "execute_result"
    }
   ],
   "source": [
    "beta1_hat"
   ]
  },
  {
   "cell_type": "markdown",
   "metadata": {},
   "source": [
    "The coefficents $\\hat{\\beta}_{1}$ and $\\hat{\\beta}_{0}$ are clearly not exact."
   ]
  },
  {
   "cell_type": "markdown",
   "metadata": {},
   "source": [
    "Let's try this again and randomize the X values."
   ]
  },
  {
   "cell_type": "code",
   "execution_count": 10,
   "metadata": {},
   "outputs": [
    {
     "data": {
      "image/png": "[encoded data removed]",
      "text/plain": [
       "<matplotlib.figure.Figure at 0xad4e910c>"
      ]
     },
     "metadata": {},
     "output_type": "display_data"
    }
   ],
   "source": [
    "%matplotlib inline\n",
    "import matplotlib.pyplot as plt\n",
    "import numpy as np\n",
    "\n",
    "x = np.random.uniform(0,100, size=(100,))\n",
    "delta = np.random.uniform(-10,10, size=(100,))\n",
    "y_hat = .5 * x + 4 + delta\n",
    "plt.scatter(x,y_hat)\n",
    "plt.show()"
   ]
  },
  {
   "cell_type": "code",
   "execution_count": 11,
   "metadata": {
    "collapsed": true
   },
   "outputs": [],
   "source": [
    "x_mean = x.mean()\n",
    "y_mean = y_hat.mean()\n",
    "beta1_hat = np.sum((x-x_mean)*(y_hat-y_mean))/np.sum(np.power((x-x_mean),2))\n",
    "beta0_hat = y_mean - beta1_hat*x_mean"
   ]
  },
  {
   "cell_type": "code",
   "execution_count": 12,
   "metadata": {},
   "outputs": [
    {
     "data": {
      "text/plain": [
       "4.5944663404667843"
      ]
     },
     "execution_count": 12,
     "metadata": {},
     "output_type": "execute_result"
    }
   ],
   "source": [
    "beta0_hat"
   ]
  },
  {
   "cell_type": "code",
   "execution_count": 13,
   "metadata": {},
   "outputs": [
    {
     "data": {
      "text/plain": [
       "0.49717307152004003"
      ]
     },
     "execution_count": 13,
     "metadata": {},
     "output_type": "execute_result"
    }
   ],
   "source": [
    "beta1_hat"
   ]
  },
  {
   "cell_type": "markdown",
   "metadata": {},
   "source": [
    "The scypy package in Python has a function that will calculate the coefficients for us."
   ]
  },
  {
   "cell_type": "code",
   "execution_count": 14,
   "metadata": {
    "collapsed": true
   },
   "outputs": [],
   "source": [
    "from scipy import stats\n",
    "slope, intercept, r_value, p_value, std_error = stats.linregress(x,y_hat)"
   ]
  },
  {
   "cell_type": "code",
   "execution_count": 15,
   "metadata": {},
   "outputs": [
    {
     "data": {
      "text/plain": [
       "0.49717307152004026"
      ]
     },
     "execution_count": 15,
     "metadata": {},
     "output_type": "execute_result"
    }
   ],
   "source": [
    "slope"
   ]
  },
  {
   "cell_type": "code",
   "execution_count": 16,
   "metadata": {},
   "outputs": [
    {
     "data": {
      "text/plain": [
       "4.5944663404667736"
      ]
     },
     "execution_count": 16,
     "metadata": {},
     "output_type": "execute_result"
    }
   ],
   "source": [
    "intercept"
   ]
  },
  {
   "cell_type": "markdown",
   "metadata": {},
   "source": [
    "Both beta0_hat is exactly the same as the slope variable and beta1_hat is exactly the same as the intercept."
   ]
  },
  {
   "cell_type": "markdown",
   "metadata": {},
   "source": [
    "### Averaging $\\hat{\\beta}_{0}$ and $\\hat{\\beta}_{1}$ over many data sample sets\n",
    "Now what if we were to take a lot of data samples and average the slopes and intercepts from each of the data sample sets?"
   ]
  },
  {
   "cell_type": "code",
   "execution_count": 17,
   "metadata": {
    "collapsed": true
   },
   "outputs": [],
   "source": [
    "import numpy as np\n",
    "\n",
    "size = 10\n",
    "slopes = np.empty(size)\n",
    "intercepts = np.empty(size)\n",
    "for i in range(size):\n",
    "    x = np.random.uniform(0,100, size=(100,))\n",
    "    delta = np.random.uniform(-10,10, size=(100,))\n",
    "    y_hat = .5 * x + 4 + delta\n",
    "    slope, intercept, r_value, p_value, std_error = stats.linregress(x,y_hat)\n",
    "    slopes[i] = slope\n",
    "    intercepts[i] = intercept"
   ]
  },
  {
   "cell_type": "code",
   "execution_count": 18,
   "metadata": {},
   "outputs": [
    {
     "data": {
      "text/plain": [
       "0.49957301101573715"
      ]
     },
     "execution_count": 18,
     "metadata": {},
     "output_type": "execute_result"
    }
   ],
   "source": [
    "slopes.mean()"
   ]
  },
  {
   "cell_type": "code",
   "execution_count": 19,
   "metadata": {},
   "outputs": [
    {
     "data": {
      "text/plain": [
       "4.1094309744012154"
      ]
     },
     "execution_count": 19,
     "metadata": {},
     "output_type": "execute_result"
    }
   ],
   "source": [
    "intercepts.mean()"
   ]
  },
  {
   "cell_type": "code",
   "execution_count": 20,
   "metadata": {
    "collapsed": true
   },
   "outputs": [],
   "source": [
    "size = 100\n",
    "slopes = np.empty(size)\n",
    "intercepts = np.empty(size)\n",
    "for i in range(size):\n",
    "    x = np.random.uniform(0,100, size=(100,))\n",
    "    delta = np.random.uniform(-10,10, size=(100,))\n",
    "    y_hat = .5 * x + 4 + delta\n",
    "    slope, intercept, r_value, p_value, std_error = stats.linregress(x,y_hat)\n",
    "    slopes[i] = slope\n",
    "    intercepts[i] = intercept"
   ]
  },
  {
   "cell_type": "code",
   "execution_count": 21,
   "metadata": {},
   "outputs": [
    {
     "data": {
      "text/plain": [
       "0.50212405781817426"
      ]
     },
     "execution_count": 21,
     "metadata": {},
     "output_type": "execute_result"
    }
   ],
   "source": [
    "slopes.mean()"
   ]
  },
  {
   "cell_type": "code",
   "execution_count": 22,
   "metadata": {},
   "outputs": [
    {
     "data": {
      "text/plain": [
       "3.9831891256113829"
      ]
     },
     "execution_count": 22,
     "metadata": {},
     "output_type": "execute_result"
    }
   ],
   "source": [
    "intercepts.mean()"
   ]
  },
  {
   "cell_type": "code",
   "execution_count": 23,
   "metadata": {
    "collapsed": true
   },
   "outputs": [],
   "source": [
    "size = 1000\n",
    "slopes = np.empty(size)\n",
    "intercepts = np.empty(size)\n",
    "for i in range(size):\n",
    "    x = np.random.uniform(0,100, size=(100,))\n",
    "    delta = np.random.uniform(-10,10, size=(100,))\n",
    "    y_hat = .5 * x + 4 + delta\n",
    "    slope, intercept, r_value, p_value, std_error = stats.linregress(x,y_hat)\n",
    "    slopes[i] = slope\n",
    "    intercepts[i] = intercept"
   ]
  },
  {
   "cell_type": "code",
   "execution_count": 24,
   "metadata": {},
   "outputs": [
    {
     "data": {
      "text/plain": [
       "0.49901398481122949"
      ]
     },
     "execution_count": 24,
     "metadata": {},
     "output_type": "execute_result"
    }
   ],
   "source": [
    "slopes.mean()"
   ]
  },
  {
   "cell_type": "code",
   "execution_count": 25,
   "metadata": {},
   "outputs": [
    {
     "data": {
      "text/plain": [
       "4.0550590223558096"
      ]
     },
     "execution_count": 25,
     "metadata": {},
     "output_type": "execute_result"
    }
   ],
   "source": [
    "intercepts.mean()"
   ]
  },
  {
   "cell_type": "code",
   "execution_count": 26,
   "metadata": {
    "collapsed": true
   },
   "outputs": [],
   "source": [
    "size = 10000\n",
    "slopes = np.empty(size)\n",
    "intercepts = np.empty(size)\n",
    "for i in range(size):\n",
    "    x = np.random.uniform(0,100, size=(100,))\n",
    "    delta = np.random.uniform(-10,10, size=(100,))\n",
    "    y_hat = .5 * x + 4 + delta\n",
    "    slope, intercept, r_value, p_value, std_error = stats.linregress(x,y_hat)\n",
    "    slopes[i] = slope\n",
    "    intercepts[i] = intercept"
   ]
  },
  {
   "cell_type": "code",
   "execution_count": 27,
   "metadata": {},
   "outputs": [
    {
     "data": {
      "text/plain": [
       "0.49998210625035533"
      ]
     },
     "execution_count": 27,
     "metadata": {},
     "output_type": "execute_result"
    }
   ],
   "source": [
    "slopes.mean()"
   ]
  },
  {
   "cell_type": "code",
   "execution_count": 28,
   "metadata": {},
   "outputs": [
    {
     "data": {
      "text/plain": [
       "3.9931314705813472"
      ]
     },
     "execution_count": 28,
     "metadata": {},
     "output_type": "execute_result"
    }
   ],
   "source": [
    "intercepts.mean()"
   ]
  },
  {
   "cell_type": "markdown",
   "metadata": {},
   "source": [
    "### Coefficient accuracy"
   ]
  },
  {
   "cell_type": "markdown",
   "metadata": {},
   "source": [
    "The more we average $\\hat{\\beta}_{0}$ and $\\hat{\\beta}_{1}$ from many data samples, the closer and closer the coefficients will approach the \"unknown\" function's coefficients $\\beta_{0}$ and $\\beta_{1}$. So what can we learn from this? What is being shown is an unbias in the estimate. There is no intent to intentionally overshoot or undershoot the individual slope or intercept."
   ]
  },
  {
   "cell_type": "markdown",
   "metadata": {},
   "source": [
    "Where $\\hat{\\mu}$ is the mean (average) of the samples and $\\sigma$ is the standard deviation. Var($\\hat{\\mu}$) is the variance of the sample population. First, let's discuss the variance of the sample mean. More formally the sample variance is described by the following equation(http://mathworld.wolfram.com/Variance.html):"
   ]
  },
  {
   "cell_type": "markdown",
   "metadata": {},
   "source": [
    " $$Var(\\hat{\\mu}) = \\frac{1}{n-1}\\sum_{i=1}^n(y_{i}-\\bar{y})^2$$"
   ]
  },
  {
   "cell_type": "markdown",
   "metadata": {},
   "source": [
    "Looking at the equation, what can we learn about the variance? In a nutshell, we are looking at the sample spread from the mean of the response or how spread out/by how much do the samples vary (On a side note, if you want to know why the differences are squared, see the footnote at http://www.mathsisfun.com/data/standard-deviation.html). Here is the link to a very good video on the sample variance: https://www.youtube.com/watch?v=sOb9b_AtwDg (Population and Sample Variance from MathTutorDVD.com). We know that if we take the average $\\hat{\\mu}$ over many data sets, $\\hat{\\mu}$ would move closer and closer to the actual population $\\mu$. Since each data set will produce its own $\\hat{\\mu}$, a question we could ask ourselves is by how far off an individual $\\hat{\\mu}$ will be from $\\mu$. The Standard Error (SE) will help in answering that question. Standard errors will also help us establish a confidence interval."
   ]
  },
  {
   "cell_type": "markdown",
   "metadata": {},
   "source": [
    "$$Var(\\hat{\\mu}) = SE(\\hat{\\mu})^2 = \\frac{\\sigma^2}{n}$$"
   ]
  },
  {
   "cell_type": "markdown",
   "metadata": {
    "collapsed": true
   },
   "source": [
    "Standard error: https://www.youtube.com/watch?v=BwYj69LAQOI"
   ]
  },
  {
   "cell_type": "markdown",
   "metadata": {
    "collapsed": true
   },
   "source": [
    "By inspection of the equation we can see that as the standard deviation goes up, so will the standard error. In contrast as the number of observations goes up the standard error will go down."
   ]
  },
  {
   "cell_type": "markdown",
   "metadata": {},
   "source": [
    "We can extend this logic to the coefficients of our function and determine their accuracy. For the standard errors of $\\hat{\\beta}_{0}$ and $\\hat{\\beta}_{1}$ we have the following equations:"
   ]
  },
  {
   "cell_type": "markdown",
   "metadata": {},
   "source": [
    "$$SE(\\hat{\\beta}_{0})^2 = \\sigma^2[\\frac{1}{n}+\\frac{\\bar{x}^2}{\\Sigma_{i=1}^n(x_{i}-\\bar{x})^2}], \\space SE(\\hat{\\beta}_{1})^2 = \\frac{{\\sigma}^2}{\\Sigma_{i=1}^n(x_{i}-\\bar{x})^2}$$"
   ]
  },
  {
   "cell_type": "markdown",
   "metadata": {},
   "source": [
    "In order for these equations to hold $\\epsilon$ for each observation must be uncorrelated. $\\sigma^2$ is unknown but can be estimated using the Residual Standard Error (RSE):"
   ]
  },
  {
   "cell_type": "markdown",
   "metadata": {},
   "source": [
    "$$\\sigma^2\\approx\\ RSE\\ = \\ \\sqrt{\\frac{RSS}{(n-2)}}$$"
   ]
  },
  {
   "cell_type": "markdown",
   "metadata": {},
   "source": [
    "Standard errors are also used to execute hypothesis tests such as the null hypothesis test on the coefficients of the unknown function."
   ]
  },
  {
   "cell_type": "markdown",
   "metadata": {},
   "source": [
    "Null hypothesis: X has no effect on Y.\n",
    "\n",
    "Alternative hypothesis: X has some effect on Y."
   ]
  },
  {
   "cell_type": "markdown",
   "metadata": {},
   "source": [
    "To test the null hypothesis test we need to establish that $\\hat{\\beta_{1}}$ is far enough from zero that we can be confident that $\\hat{\\beta_{1}}$ is non-zero. The standard error can be helpful in determining if $\\hat{\\beta_{1}}$ is far enough from zero to be considered non-zero. This is because being sufficiently far from zero depends a lot on the accuracy of $\\hat{\\beta_{1}}$. The t-statistic is used to compare the standard error to $\\hat{\\beta_{1}}$."
   ]
  },
  {
   "cell_type": "markdown",
   "metadata": {},
   "source": [
    "$$t=\\frac{\\hat{\\beta_{1}}-\\beta_{1}}{SE({\\hat{\\beta_{1}})}}$$"
   ]
  },
  {
   "cell_type": "markdown",
   "metadata": {},
   "source": [
    "We are going to make an set $\\beta_{1}$ to zero to test the null hypothesis, or in other words, we are testing to see X has no relationship with Y. So, setting $\\beta_{1}=0$ we have the following t-statistic:"
   ]
  },
  {
   "cell_type": "markdown",
   "metadata": {},
   "source": [
    "$$t=\\frac{\\hat{\\beta_{1}}-0}{SE({\\hat{\\beta_{1}})}}$$"
   ]
  },
  {
   "cell_type": "markdown",
   "metadata": {},
   "source": [
    "Really what this equation tells us is how many standard deviations $\\beta_{1}$ is from 0. Now we will go through an example of calculating the t-statistic and plotting the result over many iterations."
   ]
  },
  {
   "cell_type": "code",
   "execution_count": 51,
   "metadata": {},
   "outputs": [
    {
     "data": {
      "text/plain": [
       "[<matplotlib.lines.Line2D at 0xabe0238c>]"
      ]
     },
     "execution_count": 51,
     "metadata": {},
     "output_type": "execute_result"
    },
    {
     "data": {
      "image/png": "[encoded data removed]",
      "text/plain": [
       "<matplotlib.figure.Figure at 0xabe54c0c>"
      ]
     },
     "metadata": {},
     "output_type": "display_data"
    }
   ],
   "source": [
    "%matplotlib inline\n",
    "import matplotlib.pyplot as plt\n",
    "import scipy.stats as stats\n",
    "import numpy as np\n",
    "\n",
    "size = 10000\n",
    "t = np.empty(size)\n",
    "p = np.empty(size)\n",
    "for i in range(size):\n",
    "    x = np.random.uniform(0,100, size=(10,))\n",
    "    delta = np.random.uniform(-10,10, size=(10,))\n",
    "    y_hat = .5 * x + 4 + delta\n",
    "    slope, intercept, r_value, p_value, std_error = stats.linregress(x,y_hat)\n",
    "    t[i] = slope / std_error\n",
    "    p[i] = p_value\n",
    "\n",
    "t = sorted(t)\n",
    "pdf = stats.norm.pdf(t, np.mean(t), np.std(t))\n",
    "plt.plot(t, pdf)"
   ]
  },
  {
   "cell_type": "markdown",
   "metadata": {},
   "source": [
    "The shape of the statistic follows a normal distribution. In this case the mean is about 8. "
   ]
  },
  {
   "cell_type": "markdown",
   "metadata": {},
   "source": [
    "Now that the t-statistic has been calculated we can compute the p-value which is what we are really interested in. A very small p-value is an indication that we can reject the null hypothesis, meaning that there is a high probability of a relationship between the X and Y."
   ]
  },
  {
   "cell_type": "code",
   "execution_count": 52,
   "metadata": {},
   "outputs": [
    {
     "data": {
      "text/plain": [
       "0.0005510471820596004"
      ]
     },
     "execution_count": 52,
     "metadata": {},
     "output_type": "execute_result"
    }
   ],
   "source": [
    "np.mean(p)"
   ]
  },
  {
   "cell_type": "markdown",
   "metadata": {},
   "source": [
    "Typical cutoffs of the p-value are 5% or 1% in order to reject the null hypothesis. Clearly at there is a high probability that X is related to Y in this example."
   ]
  },
  {
   "cell_type": "markdown",
   "metadata": {},
   "source": [
    "### Model Fit"
   ]
  },
  {
   "cell_type": "markdown",
   "metadata": {},
   "source": [
    "Now that we know there is a high degree of likelihood that we can reject the null hypothesis for our coefficient, we need to determine the effectiveness of our model. We can use the Residual Standard Error (RSE) and the $R^2$ statistic."
   ]
  },
  {
   "cell_type": "markdown",
   "metadata": {},
   "source": [
    "\n",
    "The RSE measures the standard deviation of the error $\\epsilon$."
   ]
  },
  {
   "cell_type": "markdown",
   "metadata": {},
   "source": [
    "$$RSE = \\sqrt{\\frac{RSS}{n-2}}=\\sqrt{\\frac{1}{n-2}\\Sigma_{i=1}^n(y_{i}-\\hat{y_{i}})^2}$$"
   ]
  },
  {
   "cell_type": "code",
   "execution_count": 73,
   "metadata": {
    "scrolled": true
   },
   "outputs": [
    {
     "data": {
      "text/plain": [
       "5.618658202212803"
      ]
     },
     "execution_count": 73,
     "metadata": {},
     "output_type": "execute_result"
    }
   ],
   "source": [
    "import numpy as np\n",
    "import math\n",
    "\n",
    "n = 100\n",
    "\n",
    "x = np.random.uniform(0,100, size=(n,))\n",
    "delta = np.random.uniform(-10,10, size=(n,))\n",
    "y_hat = .5 * x + 4 + delta\n",
    "slope, intercept, r_value, p_value, std_error = stats.linregress(x,y_hat)\n",
    "\n",
    "math.sqrt(np.sum(np.square(y_hat-(slope*x+intercept))) / (n - 2))"
   ]
  },
  {
   "cell_type": "code",
   "execution_count": 74,
   "metadata": {},
   "outputs": [
    {
     "data": {
      "text/plain": [
       "31.454571854078573"
      ]
     },
     "execution_count": 74,
     "metadata": {},
     "output_type": "execute_result"
    }
   ],
   "source": [
    "np.mean(y_hat)"
   ]
  },
  {
   "cell_type": "markdown",
   "metadata": {},
   "source": [
    "The value of the RSS is in units of Y. The result above show us by what percentage the RSS is of the mean. The RSE shows how bad of a fit is our model."
   ]
  },
  {
   "cell_type": "markdown",
   "metadata": {},
   "source": [
    "The other useful tool for determining the accuracy of our model the $R^2$ statistic which is not units of Y but rather is a proportion. $R^2$ lets us figure out what percentage of Y can be explained by X."
   ]
  },
  {
   "cell_type": "markdown",
   "metadata": {},
   "source": [
    "$$R^2=\\frac{TSS-RSS}{TSS}=1-\\frac{RSS}{TSS}$$"
   ]
  },
  {
   "cell_type": "markdown",
   "metadata": {},
   "source": [
    "where the Total Sum of Squares (TSS) is defined as: $TSS=\\Sigma(y_{i}-\\bar{y})^2$"
   ]
  },
  {
   "cell_type": "code",
   "execution_count": 77,
   "metadata": {
    "scrolled": true
   },
   "outputs": [
    {
     "data": {
      "text/plain": [
       "0.8717181991528345"
      ]
     },
     "execution_count": 77,
     "metadata": {},
     "output_type": "execute_result"
    }
   ],
   "source": [
    "math.pow(r_value,2)"
   ]
  },
  {
   "cell_type": "markdown",
   "metadata": {},
   "source": [
    "Let's run through some more examples and see how $R^2$ changes as the error changes."
   ]
  },
  {
   "cell_type": "code",
   "execution_count": 82,
   "metadata": {},
   "outputs": [
    {
     "data": {
      "text/plain": [
       "0.9599504434123102"
      ]
     },
     "execution_count": 82,
     "metadata": {},
     "output_type": "execute_result"
    }
   ],
   "source": [
    "import numpy as np\n",
    "import math\n",
    "error = 5\n",
    "n = 100\n",
    "\n",
    "x = np.random.uniform(0,100, size=(n,))\n",
    "delta = np.random.uniform(-error,error, size=(n,))\n",
    "y_hat = .5 * x + 4 + delta\n",
    "slope, intercept, r_value, p_value, std_error = stats.linregress(x,y_hat)\n",
    "\n",
    "rse = math.sqrt(np.sum(np.square(y_hat-(slope*x+intercept))) / (n - 2))\n",
    "math.pow(r_value,2)"
   ]
  },
  {
   "cell_type": "code",
   "execution_count": 84,
   "metadata": {},
   "outputs": [
    {
     "data": {
      "text/plain": [
       "0.7142063168172001"
      ]
     },
     "execution_count": 84,
     "metadata": {},
     "output_type": "execute_result"
    }
   ],
   "source": [
    "import numpy as np\n",
    "import math\n",
    "error = 15\n",
    "n = 100\n",
    "\n",
    "x = np.random.uniform(0,100, size=(n,))\n",
    "delta = np.random.uniform(-error,error, size=(n,))\n",
    "y_hat = .5 * x + 4 + delta\n",
    "slope, intercept, r_value, p_value, std_error = stats.linregress(x,y_hat)\n",
    "\n",
    "rse = math.sqrt(np.sum(np.square(y_hat-(slope*x+intercept))) / (n - 2))\n",
    "math.pow(r_value,2)"
   ]
  },
  {
   "cell_type": "code",
   "execution_count": 86,
   "metadata": {},
   "outputs": [
    {
     "data": {
      "text/plain": [
       "0.6349836732498763"
      ]
     },
     "execution_count": 86,
     "metadata": {},
     "output_type": "execute_result"
    }
   ],
   "source": [
    "import numpy as np\n",
    "import math\n",
    "error = 20\n",
    "n = 100\n",
    "\n",
    "x = np.random.uniform(0,100, size=(n,))\n",
    "delta = np.random.uniform(-error,error, size=(n,))\n",
    "y_hat = .5 * x + 4 + delta\n",
    "slope, intercept, r_value, p_value, std_error = stats.linregress(x,y_hat)\n",
    "\n",
    "rse = math.sqrt(np.sum(np.square(y_hat-(slope*x+intercept))) / (n - 2))\n",
    "math.pow(r_value,2)"
   ]
  },
  {
   "cell_type": "markdown",
   "metadata": {},
   "source": [
    "From the previous three examples, it is interesting to see how $R^2$ changes as the error increases and decreases."
   ]
  },
  {
   "cell_type": "markdown",
   "metadata": {},
   "source": [
    "Up until now we have only considered simple linear regression. Multiple linear regression also needs to be addressed. We will give an example of multiple linear regression using two packages in Python: statsmodel, and sklearn."
   ]
  },
  {
   "cell_type": "code",
   "execution_count": 150,
   "metadata": {},
   "outputs": [
    {
     "data": {
      "text/html": [
       "<table class=\"simpletable\">\n",
       "<caption>OLS Regression Results</caption>\n",
       "<tr>\n",
       "  <th>Dep. Variable:</th>            <td>y</td>        <th>  R-squared:         </th> <td>   0.996</td> \n",
       "</tr>\n",
       "<tr>\n",
       "  <th>Model:</th>                   <td>OLS</td>       <th>  Adj. R-squared:    </th> <td>   0.996</td> \n",
       "</tr>\n",
       "<tr>\n",
       "  <th>Method:</th>             <td>Least Squares</td>  <th>  F-statistic:       </th> <td>1.150e+06</td>\n",
       "</tr>\n",
       "<tr>\n",
       "  <th>Date:</th>             <td>Mon, 28 Aug 2017</td> <th>  Prob (F-statistic):</th>  <td>  0.00</td>  \n",
       "</tr>\n",
       "<tr>\n",
       "  <th>Time:</th>                 <td>15:33:40</td>     <th>  Log-Likelihood:    </th> <td> -31717.</td> \n",
       "</tr>\n",
       "<tr>\n",
       "  <th>No. Observations:</th>      <td> 10000</td>      <th>  AIC:               </th> <td>6.344e+04</td>\n",
       "</tr>\n",
       "<tr>\n",
       "  <th>Df Residuals:</th>          <td>  9997</td>      <th>  BIC:               </th> <td>6.346e+04</td>\n",
       "</tr>\n",
       "<tr>\n",
       "  <th>Df Model:</th>              <td>     2</td>      <th>                     </th>     <td> </td>    \n",
       "</tr>\n",
       "<tr>\n",
       "  <th>Covariance Type:</th>      <td>nonrobust</td>    <th>                     </th>     <td> </td>    \n",
       "</tr>\n",
       "</table>\n",
       "<table class=\"simpletable\">\n",
       "<tr>\n",
       "    <td></td>       <th>coef</th>     <th>std err</th>      <th>t</th>      <th>P>|t|</th>  <th>[0.025</th>    <th>0.975]</th>  \n",
       "</tr>\n",
       "<tr>\n",
       "  <th>const</th> <td>    3.9699</td> <td>    0.154</td> <td>   25.855</td> <td> 0.000</td> <td>    3.669</td> <td>    4.271</td>\n",
       "</tr>\n",
       "<tr>\n",
       "  <th>x</th>     <td>    0.5018</td> <td>    0.002</td> <td>  250.654</td> <td> 0.000</td> <td>    0.498</td> <td>    0.506</td>\n",
       "</tr>\n",
       "<tr>\n",
       "  <th>z</th>     <td>    2.9998</td> <td>    0.002</td> <td> 1496.761</td> <td> 0.000</td> <td>    2.996</td> <td>    3.004</td>\n",
       "</tr>\n",
       "</table>\n",
       "<table class=\"simpletable\">\n",
       "<tr>\n",
       "  <th>Omnibus:</th>       <td>7834.924</td> <th>  Durbin-Watson:     </th> <td>   1.977</td> \n",
       "</tr>\n",
       "<tr>\n",
       "  <th>Prob(Omnibus):</th>  <td> 0.000</td>  <th>  Jarque-Bera (JB):  </th> <td> 588.628</td> \n",
       "</tr>\n",
       "<tr>\n",
       "  <th>Skew:</th>           <td>-0.013</td>  <th>  Prob(JB):          </th> <td>1.52e-128</td>\n",
       "</tr>\n",
       "<tr>\n",
       "  <th>Kurtosis:</th>       <td> 1.812</td>  <th>  Cond. No.          </th> <td>    204.</td> \n",
       "</tr>\n",
       "</table>"
      ],
      "text/plain": [
       "<class 'statsmodels.iolib.summary.Summary'>\n",
       "\"\"\"\n",
       "                            OLS Regression Results                            \n",
       "==============================================================================\n",
       "Dep. Variable:                      y   R-squared:                       0.996\n",
       "Model:                            OLS   Adj. R-squared:                  0.996\n",
       "Method:                 Least Squares   F-statistic:                 1.150e+06\n",
       "Date:                Mon, 28 Aug 2017   Prob (F-statistic):               0.00\n",
       "Time:                        15:33:40   Log-Likelihood:                -31717.\n",
       "No. Observations:               10000   AIC:                         6.344e+04\n",
       "Df Residuals:                    9997   BIC:                         6.346e+04\n",
       "Df Model:                           2                                         \n",
       "Covariance Type:            nonrobust                                         \n",
       "==============================================================================\n",
       "                 coef    std err          t      P>|t|      [0.025      0.975]\n",
       "------------------------------------------------------------------------------\n",
       "const          3.9699      0.154     25.855      0.000       3.669       4.271\n",
       "x              0.5018      0.002    250.654      0.000       0.498       0.506\n",
       "z              2.9998      0.002   1496.761      0.000       2.996       3.004\n",
       "==============================================================================\n",
       "Omnibus:                     7834.924   Durbin-Watson:                   1.977\n",
       "Prob(Omnibus):                  0.000   Jarque-Bera (JB):              588.628\n",
       "Skew:                          -0.013   Prob(JB):                    1.52e-128\n",
       "Kurtosis:                       1.812   Cond. No.                         204.\n",
       "==============================================================================\n",
       "\n",
       "Warnings:\n",
       "[1] Standard Errors assume that the covariance matrix of the errors is correctly specified.\n",
       "\"\"\""
      ]
     },
     "execution_count": 150,
     "metadata": {},
     "output_type": "execute_result"
    }
   ],
   "source": [
    "import numpy as np\n",
    "import pandas as pd\n",
    "import statsmodels.api as sm\n",
    "import math\n",
    "error = 10\n",
    "n = 10000\n",
    "\n",
    "x = np.random.uniform(0,100, size=(n,))\n",
    "z = np.random.uniform(0,100, size=(n,))\n",
    "delta = np.random.uniform(-error,error, size=(n,))\n",
    "y_hat = .5 * x + 4 + delta + 3 * z\n",
    "\n",
    "d = {'x': x, 'z': z,}\n",
    "X = pd.DataFrame(d)\n",
    "X = sm.add_constant(X)\n",
    "model = sm.OLS(y_hat, X).fit()\n",
    "predictions = model.predict(X)\n",
    "model.summary()"
   ]
  },
  {
   "cell_type": "code",
   "execution_count": 153,
   "metadata": {},
   "outputs": [],
   "source": [
    "import numpy as np\n",
    "import pandas as pd\n",
    "from sklearn import linear_model\n",
    "import math\n",
    "error = 10\n",
    "n = 10000\n",
    "\n",
    "x = np.random.uniform(0,100, size=(n,))\n",
    "z = np.random.uniform(0,100, size=(n,))\n",
    "delta = np.random.uniform(-error,error, size=(n,))\n",
    "y_hat = .5 * x + 4 + delta + 3 * z\n",
    "\n",
    "d = {'x': x, 'z': z}\n",
    "X = pd.DataFrame(d, columns=['x','z'])\n",
    "\n",
    "lm = linear_model.LinearRegression()\n",
    "model = lm.fit(X,y_hat)\n",
    "predictions = lm.predict(X)"
   ]
  },
  {
   "cell_type": "code",
   "execution_count": 154,
   "metadata": {},
   "outputs": [
    {
     "data": {
      "text/plain": [
       "0.99569861326365217"
      ]
     },
     "execution_count": 154,
     "metadata": {},
     "output_type": "execute_result"
    }
   ],
   "source": [
    "#R^2\n",
    "lm.score(X,y_hat)"
   ]
  },
  {
   "cell_type": "code",
   "execution_count": 142,
   "metadata": {},
   "outputs": [
    {
     "data": {
      "text/plain": [
       "array([ 0.49993206,  3.00133552])"
      ]
     },
     "execution_count": 142,
     "metadata": {},
     "output_type": "execute_result"
    }
   ],
   "source": [
    "lm.coef_"
   ]
  },
  {
   "cell_type": "code",
   "execution_count": 151,
   "metadata": {
    "scrolled": true
   },
   "outputs": [
    {
     "data": {
      "text/plain": [
       "3.8881956809788676"
      ]
     },
     "execution_count": 151,
     "metadata": {},
     "output_type": "execute_result"
    }
   ],
   "source": [
    "lm.intercept_"
   ]
  },
  {
   "cell_type": "markdown",
   "metadata": {},
   "source": [
    "As you can see both packages do a very good job in calculating the coefficients. We will be using sklearn in future examples, though statsmodels package is nice in that the F-statistic (which will be explained further down) in included in the calculation."
   ]
  },
  {
   "cell_type": "markdown",
   "metadata": {},
   "source": [
    "One important question to answer is if all the predictors have an influence on the response. In simple linear regression we used the null hypothesis test. Similarily, we test the null hypothesis for all the predictors. This appears in the form of: $\\beta_{1} = \\beta_{2} = ... = \\beta_{p} = 0$. This is where the F-statistic is useful. The further from one, the less likely will the null hypothesis test be true. The size of n and p will determine exactly how far from one we need to be before rejecting the null hypothesis. Though the F-statistic shows that there is a relationship between the response and at least one of the predictors. A subset of the predictors can be used to calculate the F-statistic. To determine which predictors do not have a relationship with the response will not be discussed here."
   ]
  },
  {
   "cell_type": "markdown",
   "metadata": {},
   "source": [
    "$$F=\\frac{\\frac{TSS-RSS}{p}}{\\frac{RSS}{(n-p-1)}}$$"
   ]
  },
  {
   "cell_type": "markdown",
   "metadata": {},
   "source": [
    "Up until now we have only discussed continuous independent predictors, but what about categorical predictors? Turns out that dummy variables can be used to represent the categores. Suppose we have a coin toss category which contain heads and tails. In this example we set a dummy variable to be 1 if the toss is heads and 0 if the value is tails."
   ]
  },
  {
   "cell_type": "markdown",
   "metadata": {},
   "source": [
    "$$x_{i} = \\begin{cases}\n",
    "\\text1\\hspace{10mm} if\\ the\\ ith\\ toss\\ is\\ heads\\\\\n",
    "\\text0\\hspace{10mm} if\\ the\\ ith\\ toss\\ is\\ tails\\\\\n",
    "\\end{cases}$$"
   ]
  },
  {
   "cell_type": "markdown",
   "metadata": {},
   "source": [
    "So we are left with the equation:"
   ]
  },
  {
   "cell_type": "markdown",
   "metadata": {},
   "source": [
    "$$y_{i} = \\beta_{0}+\\beta_{i}x_{i}+\\epsilon_{i} = \\begin{cases}\n",
    "\\beta_{0} + \\beta_{1} + \\epsilon_{i}\\hspace{10mm}\\text if\\ the\\ ith\\ toss\\ is\\ heads\\\\\n",
    "\\beta_{0} + \\epsilon_{i}\\hspace{21mm}\\text if\\ the\\ ith\\ toss\\ is\\ tails\\\\\n",
    "\\end{cases}$$"
   ]
  },
  {
   "cell_type": "markdown",
   "metadata": {},
   "source": [
    "If there are more than two levels per category,then we will need (levels - 1) dummy variables. For example, if we have \n",
    "a category called colors with Red, Green, Blue, each of different sizes. We will need two variables to represent these three colors. The equation would assume the following form:"
   ]
  },
  {
   "cell_type": "markdown",
   "metadata": {},
   "source": [
    "$$x_{i1}=\\begin{cases}\n",
    "1\\hspace{10mm}\\text if\\ the\\ ith\\ color\\ is\\ red\\\\\n",
    "0\\hspace{10mm}\\text if\\ the\\ ith\\ color\\ is\\ not\\ red\\\\\n",
    "\\end{cases}\n",
    "$$"
   ]
  },
  {
   "cell_type": "markdown",
   "metadata": {},
   "source": [
    "$$x_{i2}=\\begin{cases}\n",
    "1\\hspace{10mm}\\text if\\ the\\ ith\\ color\\ is\\ green\\\\\n",
    "0\\hspace{10mm}\\text if\\ the\\ ith\\ color\\ is\\ not\\ green\\\\\n",
    "\\end{cases}\n",
    "$$"
   ]
  },
  {
   "cell_type": "markdown",
   "metadata": {},
   "source": [
    "$$y_{i} = \\beta_{0}+\\beta_{1}x_{i1}+\\beta_{2}x_{i2}+\\epsilon_{i} = \\begin{cases}\n",
    "\\beta_{0} + \\beta_{1} + \\epsilon_{i}\\hspace{10mm}\\text if\\ the\\ ith\\ color\\ is\\ red\\\\\n",
    "\\beta_{0} + \\beta_{2} + \\epsilon_{i}\\hspace{10mm}\\text if\\ the\\ ith\\ color\\ is\\ green\\\\\n",
    "\\beta_{0} + \\epsilon_{i}\\hspace{21mm}\\text if\\ the\\ ith\\ color\\ is\\ blue\\\\\n",
    "\\end{cases}$$"
   ]
  },
  {
   "cell_type": "markdown",
   "metadata": {},
   "source": [
    "$\\beta_{0}$ is the size of blue, $\\beta_{1}$ is the difference between the size of red and blue, $\\beta_{2}$ is the difference between the size of green and blue. $\\beta_{0} is known as the baseline."
   ]
  },
  {
   "cell_type": "code",
   "execution_count": null,
   "metadata": {
    "collapsed": true
   },
   "outputs": [],
   "source": []
  }
 ],
 "metadata": {
  "kernelspec": {
   "display_name": "Python [conda root]",
   "language": "python",
   "name": "conda-root-py"
  },
  "language_info": {
   "codemirror_mode": {
    "name": "ipython",
    "version": 3
   },
   "file_extension": ".py",
   "mimetype": "text/x-python",
   "name": "python",
   "nbconvert_exporter": "python",
   "pygments_lexer": "ipython3",
   "version": "3.5.3"
  }
 },
 "nbformat": 4,
 "nbformat_minor": 2
}
